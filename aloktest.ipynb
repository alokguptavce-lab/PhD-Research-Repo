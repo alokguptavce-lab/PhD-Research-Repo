{
  "nbformat": 4,
  "nbformat_minor": 0,
  "metadata": {
    "colab": {
      "provenance": [],
      "authorship_tag": "ABX9TyMF4T1jTsy3rmUUd6yS0Ezz",
      "include_colab_link": true
    },
    "kernelspec": {
      "name": "python3",
      "display_name": "Python 3"
    },
    "language_info": {
      "name": "python"
    }
  },
  "cells": [
    {
      "cell_type": "markdown",
      "metadata": {
        "id": "view-in-github",
        "colab_type": "text"
      },
      "source": [
        "<a href=\"https://colab.research.google.com/github/alokguptavce-lab/PhD-Research-Repo/blob/main/aloktest.ipynb\" target=\"_parent\"><img src=\"https://colab.research.google.com/assets/colab-badge.svg\" alt=\"Open In Colab\"/></a>"
      ]
    },
    {
      "cell_type": "code",
      "execution_count": null,
      "metadata": {
        "id": "_TTfIFlXwE32"
      },
      "outputs": [],
      "source": [
        "# Clone repo\n",
        "!git clone https://github.com/alokguptavce-lab/PhD-Research-Repo.git\n",
        "%cd PhD-Research-Repo\n",
        "\n",
        "# Install requirements\n",
        "!pip install -r requirements.txt\n",
        "\n"
      ]
    },
    {
      "cell_type": "code",
      "source": [
        "!pip install web3\n"
      ],
      "metadata": {
        "id": "BmiX7jtczlH1"
      },
      "execution_count": null,
      "outputs": []
    },
    {
      "cell_type": "code",
      "source": [
        "from web3 import Web3\n",
        "\n",
        "# Example CoreDAO testnet RPC (replace with the latest one)\n",
        "coredao_rpc = \"https://rpc.test2.btcs.network\"   # Testnet RPC\n",
        "web3 = Web3(Web3.HTTPProvider(coredao_rpc))\n",
        "\n",
        "print(\"Connected:\", web3.is_connected())\n"
      ],
      "metadata": {
        "colab": {
          "base_uri": "https://localhost:8080/"
        },
        "id": "7tDQxcfWzpzE",
        "outputId": "f1951bd5-3e5d-48dd-ee56-c6fc475b7702"
      },
      "execution_count": null,
      "outputs": [
        {
          "output_type": "stream",
          "name": "stdout",
          "text": [
            "Connected: True\n"
          ]
        }
      ]
    },
    {
      "cell_type": "code",
      "source": [
        "!pip install web3\n",
        "\n",
        "from web3 import Web3\n",
        "\n",
        "# Connect to CoreDAO testnet\n",
        "coredao_rpc = \"https://rpc.test2.btcs.network\"\n",
        "web3 = Web3(Web3.HTTPProvider(coredao_rpc))\n",
        "\n",
        "print(\"Connected to CoreDAO:\", web3.is_connected())\n"
      ],
      "metadata": {
        "id": "_Ne1YOLK2Vc3"
      },
      "execution_count": null,
      "outputs": []
    },
    {
      "cell_type": "code",
      "source": [],
      "metadata": {
        "id": "qEY4ZXaH2ezJ"
      },
      "execution_count": null,
      "outputs": []
    },
    {
      "cell_type": "code",
      "source": [
        "from web3 import Web3\n",
        "\n",
        "# CoreDAO Testnet RPC endpoint\n",
        "coredao_rpc = \"https://rpc.test2.btcs.network\"   # (official CoreDAO testnet RPC)\n",
        "\n",
        "# Create a Web3 connection\n",
        "web3 = Web3(Web3.HTTPProvider(coredao_rpc))\n",
        "\n",
        "# Check connection\n",
        "print(\"Connected to CoreDAO Testnet:\", web3.is_connected())\n",
        "\n",
        "# Fetch latest block\n",
        "if web3.is_connected():\n",
        "    latest_block = web3.eth.block_number\n",
        "    print(\"Latest Block Number:\", latest_block)\n"
      ],
      "metadata": {
        "colab": {
          "base_uri": "https://localhost:8080/"
        },
        "id": "if0nD1Zh271e",
        "outputId": "9193b742-6d67-405c-eab8-12c7197b4615"
      },
      "execution_count": null,
      "outputs": [
        {
          "output_type": "stream",
          "name": "stdout",
          "text": [
            "Connected to CoreDAO Testnet: True\n",
            "Latest Block Number: 7991044\n"
          ]
        }
      ]
    },
    {
      "cell_type": "code",
      "source": [
        "from eth_account import Account\n"
      ],
      "metadata": {
        "id": "qiMmLo-X30vU"
      },
      "execution_count": null,
      "outputs": []
    },
    {
      "cell_type": "code",
      "source": [
        "from eth_account import Account\n",
        "\n",
        "# Replace with your private key (⚠️ only testnet keys, never mainnet!)\n",
        "private_key = \"f94dd7a3670181b23b38b0fa4e99e1b29291e501d4f1eb16c0d63201f7af1797\"\n",
        "\n",
        "# Load account\n",
        "account = Account.from_key(private_key)\n",
        "print(\"Using account:\", account.address)\n"
      ],
      "metadata": {
        "colab": {
          "base_uri": "https://localhost:8080/"
        },
        "id": "RNyAg0Up33Ev",
        "outputId": "ec6fcc2c-f799-4eb8-f68f-fb6e5456260f"
      },
      "execution_count": null,
      "outputs": [
        {
          "output_type": "stream",
          "name": "stdout",
          "text": [
            "Using account: 0xF72cb96Bc1A9C20fdDBd9B6f2a4DBEF5303b737C\n"
          ]
        }
      ]
    },
    {
      "cell_type": "code",
      "source": [
        "balance = web3.eth.get_balance(account.address)\n",
        "print(\"Balance:\", web3.from_wei(balance, 'ether'), \"CORE\")\n"
      ],
      "metadata": {
        "colab": {
          "base_uri": "https://localhost:8080/"
        },
        "id": "cTNTkDAS4_uw",
        "outputId": "e52de8e4-1846-442f-d072-85a906866719"
      },
      "execution_count": null,
      "outputs": [
        {
          "output_type": "stream",
          "name": "stdout",
          "text": [
            "Balance: 3.412730394 CORE\n"
          ]
        }
      ]
    },
    {
      "cell_type": "code",
      "source": [
        "!pip install web3 py-solc-x\n"
      ],
      "metadata": {
        "id": "gVwfh_L55XeY"
      },
      "execution_count": null,
      "outputs": []
    },
    {
      "cell_type": "code",
      "source": [
        "%%writefile NineNFTMania.sol\n",
        "// SPDX-License-Identifier: MIT\n",
        "pragma solidity ^0.8.20;\n",
        "\n",
        "import \"@openzeppelin/contracts/token/ERC20/ERC20.sol\";\n",
        "\n",
        "contract NineNFTMania is ERC20 {\n",
        "    constructor(uint256 initialSupply) ERC20(\"9NFT Mania\", \"9NFT\") {\n",
        "        _mint(msg.sender, initialSupply * 1000 ** decimals());\n",
        "    }\n",
        "}\n"
      ],
      "metadata": {
        "colab": {
          "base_uri": "https://localhost:8080/"
        },
        "id": "9Vmn9yEM5beU",
        "outputId": "01177a03-9d5d-45b2-c3a0-ef8b7eded87f"
      },
      "execution_count": null,
      "outputs": [
        {
          "output_type": "stream",
          "name": "stdout",
          "text": [
            "Overwriting NineNFTMania.sol\n"
          ]
        }
      ]
    },
    {
      "cell_type": "code",
      "source": [
        "%%writefile NineNFTMania.sol\n",
        "// SPDX-License-Identifier: MIT\n",
        "pragma solidity ^0.8.20;\n",
        "\n",
        "contract ERC20 {\n",
        "    string public name;\n",
        "    string public symbol;\n",
        "    uint8 public decimals = 18;\n",
        "    uint256 public totalSupply;\n",
        "\n",
        "    mapping(address => uint256) public balanceOf;\n",
        "    mapping(address => mapping(address => uint256)) public allowance;\n",
        "\n",
        "    event Transfer(address indexed from, address indexed to, uint256 value);\n",
        "    event Approval(address indexed owner, address indexed spender, uint256 value);\n",
        "\n",
        "    constructor(string memory _name, string memory _symbol) {\n",
        "        name = _name;\n",
        "        symbol = _symbol;\n",
        "    }\n",
        "\n",
        "    function transfer(address to, uint256 value) public returns (bool) {\n",
        "        require(balanceOf[msg.sender] >= value, \"Insufficient balance\");\n",
        "        balanceOf[msg.sender] -= value;\n",
        "        balanceOf[to] += value;\n",
        "        emit Transfer(msg.sender, to, value);\n",
        "        return true;\n",
        "    }\n",
        "\n",
        "    function approve(address spender, uint256 value) public returns (bool) {\n",
        "        allowance[msg.sender][spender] = value;\n",
        "        emit Approval(msg.sender, spender, value);\n",
        "        return true;\n",
        "    }\n",
        "\n",
        "    function transferFrom(address from, address to, uint256 value) public returns (bool) {\n",
        "        require(balanceOf[from] >= value, \"Insufficient balance\");\n",
        "        require(allowance[from][msg.sender] >= value, \"Allowance exceeded\");\n",
        "        balanceOf[from] -= value;\n",
        "        allowance[from][msg.sender] -= value;\n",
        "        balanceOf[to] += value;\n",
        "        emit Transfer(from, to, value);\n",
        "        return true;\n",
        "    }\n",
        "\n",
        "    function _mint(address to, uint256 value) internal {\n",
        "        totalSupply += value;\n",
        "        balanceOf[to] += value;\n",
        "        emit Transfer(address(0), to, value);\n",
        "    }\n",
        "}\n",
        "\n",
        "contract NineNFTMania is ERC20 {\n",
        "    constructor(uint256 initialSupply) ERC20(\"9NFT Mania\", \"9NFT\") {\n",
        "        _mint(msg.sender, initialSupply * (1000 ** decimals));\n",
        "    }\n",
        "}\n"
      ],
      "metadata": {
        "colab": {
          "base_uri": "https://localhost:8080/"
        },
        "id": "hnqEMVMO6XGY",
        "outputId": "8f992226-67fa-4970-9339-19ca5188c010"
      },
      "execution_count": null,
      "outputs": [
        {
          "output_type": "stream",
          "name": "stdout",
          "text": [
            "Overwriting NineNFTMania.sol\n"
          ]
        }
      ]
    },
    {
      "cell_type": "code",
      "source": [
        "from solcx import compile_standard, install_solc\n",
        "import json\n",
        "\n",
        "# Install specific Solidity compiler\n",
        "install_solc(\"0.8.20\")\n",
        "\n",
        "# Read Solidity file\n",
        "with open(\"NineNFTMania.sol\", \"r\") as f:\n",
        "    contract_source = f.read()\n",
        "\n",
        "# Compile\n",
        "compiled_sol = compile_standard(\n",
        "    {\n",
        "        \"language\": \"Solidity\",\n",
        "        \"sources\": {\"NineNFTMania.sol\": {\"content\": contract_source}},\n",
        "        \"settings\": {\n",
        "            \"outputSelection\": {\n",
        "                \"*\": {\"*\": [\"abi\", \"evm.bytecode\"]}\n",
        "            }\n",
        "        },\n",
        "    },\n",
        "    solc_version=\"0.8.20\",\n",
        ")\n",
        "\n",
        "# Save ABI and Bytecode\n",
        "contract_interface = compiled_sol[\"contracts\"][\"NineNFTMania.sol\"][\"NineNFTMania\"]\n",
        "abi = contract_interface[\"abi\"]\n",
        "bytecode = contract_interface[\"evm\"][\"bytecode\"][\"object\"]\n",
        "\n",
        "with open(\"NineNFTMania_abi.json\", \"w\") as f:\n",
        "    json.dump(abi, f)\n",
        "\n",
        "print(\"✅ Contract compiled successfully\")\n"
      ],
      "metadata": {
        "colab": {
          "base_uri": "https://localhost:8080/"
        },
        "id": "IhOxBcEH6kiu",
        "outputId": "c88ba45b-a053-4ab0-d274-5443888418a3"
      },
      "execution_count": null,
      "outputs": [
        {
          "output_type": "stream",
          "name": "stdout",
          "text": [
            "✅ Contract compiled successfully\n"
          ]
        }
      ]
    },
    {
      "cell_type": "code",
      "source": [
        "from web3 import Web3\n",
        "from eth_account import Account\n",
        "\n",
        "# CoreDAO Testnet RPC\n",
        "coredao_rpc = \"https://rpc.test2.btcs.network\"\n",
        "web3 = Web3(Web3.HTTPProvider(coredao_rpc))\n",
        "print(\"Connected to CoreDAO Testnet:\", web3.is_connected())\n",
        "\n",
        "# Load your wallet (⚠️ only use testnet keys here!)\n",
        "private_key = \"f94dd7a3670181b23b38b0fa4e99e1b29291e501d4f1eb16c0d63201f7af1797\"\n",
        "account = Account.from_key(private_key)\n",
        "print(\"Using account:\", account.address)\n"
      ],
      "metadata": {
        "colab": {
          "base_uri": "https://localhost:8080/"
        },
        "id": "vT5C1raC6rK3",
        "outputId": "a5c7fc00-e382-4cbf-b255-c94cf0b56bfa"
      },
      "execution_count": null,
      "outputs": [
        {
          "output_type": "stream",
          "name": "stdout",
          "text": [
            "Connected to CoreDAO Testnet: True\n",
            "Using account: 0xF72cb96Bc1A9C20fdDBd9B6f2a4DBEF5303b737C\n"
          ]
        }
      ]
    },
    {
      "cell_type": "code",
      "source": [
        "print(\"Tx status:\", receipt.status)   # should be 1\n",
        "print(\"Contract code length:\", len(web3.eth.get_code(receipt.contractAddress)))\n"
      ],
      "metadata": {
        "colab": {
          "base_uri": "https://localhost:8080/"
        },
        "id": "CL7UYBZa95-3",
        "outputId": "6cc7795f-f0e0-4c54-eae6-d5f98ab8e329"
      },
      "execution_count": null,
      "outputs": [
        {
          "output_type": "stream",
          "name": "stdout",
          "text": [
            "Tx status: 0\n",
            "Contract code length: 0\n"
          ]
        }
      ]
    },
    {
      "cell_type": "code",
      "source": [
        "balance = web3.eth.get_balance(account.address)\n",
        "print(\"Balance:\", web3.from_wei(balance, 'ether'))\n"
      ],
      "metadata": {
        "colab": {
          "base_uri": "https://localhost:8080/"
        },
        "id": "BBDdi5Yn_DuD",
        "outputId": "5b79fe5b-a53d-4b5e-f89e-9a7da946eb2f"
      },
      "execution_count": null,
      "outputs": [
        {
          "output_type": "stream",
          "name": "stdout",
          "text": [
            "Balance: 3.410670964\n"
          ]
        }
      ]
    },
    {
      "cell_type": "code",
      "source": [
        "balance = web3.eth.get_balance(account.address)\n",
        "print(\"Balance:\", web3.from_wei(balance, 'ether'), \"CORE\")"
      ],
      "metadata": {
        "colab": {
          "base_uri": "https://localhost:8080/"
        },
        "id": "1fmwDng7BaMp",
        "outputId": "534fb0cd-91cc-43a4-9805-24c6a444b21a"
      },
      "execution_count": null,
      "outputs": [
        {
          "output_type": "stream",
          "name": "stdout",
          "text": [
            "Balance: 3.410670964 CORE\n"
          ]
        }
      ]
    },
    {
      "cell_type": "markdown",
      "source": [],
      "metadata": {
        "id": "Sap8j1DsJqS_"
      }
    },
    {
      "cell_type": "code",
      "source": [
        "tx = NineNFTMania.constructor(1000).build_transaction({\n",
        "    \"from\": account.address,\n",
        "    \"nonce\": web3.eth.get_transaction_count(account.address),\n",
        "    \"gas\": 8000000,  # raised gas\n",
        "    \"gasPrice\": web3.to_wei(\"5\", \"gwei\"),\n",
        "})\n",
        "\n",
        "signed_tx = web3.eth.account.sign_transaction(tx, private_key)\n",
        "tx_hash = web3.eth.send_raw_transaction(signed_tx.raw_transaction)\n",
        "\n",
        "print(\"Deploying... tx hash:\", tx_hash.hex())\n",
        "receipt = web3.eth.wait_for_transaction_receipt(tx_hash)\n",
        "print(\"Tx status:\", receipt.status)\n",
        "print(\"Contract code length:\", len(web3.eth.get_code(receipt.contractAddress)))\n"
      ],
      "metadata": {
        "colab": {
          "base_uri": "https://localhost:8080/"
        },
        "id": "9cp6SR3IKBBN",
        "outputId": "00fff83c-2e56-47f1-f5ea-d1eb47ac74d0"
      },
      "execution_count": null,
      "outputs": [
        {
          "output_type": "stream",
          "name": "stdout",
          "text": [
            "Deploying... tx hash: 1f25f97fa5cb15f6a35b29c0826cddf72733cc750823a6337374a90340c56407\n",
            "Tx status: 1\n",
            "Contract code length: 3451\n"
          ]
        }
      ]
    },
    {
      "cell_type": "code",
      "source": [
        "# Load deployed contract\n",
        "contract = web3.eth.contract(address=receipt.contractAddress, abi=abi)\n",
        "\n",
        "# Read token details\n",
        "print(\"Token Name:\", contract.functions.name().call())\n",
        "print(\"Token Symbol:\", contract.functions.symbol().call())\n",
        "print(\"Total Supply:\", contract.functions.totalSupply().call())\n",
        "\n",
        "# Example transfer\n",
        "tx2 = contract.functions.transfer(\"0x000000000000000000000000000000000000dEaD\", 1000).build_transaction({\n",
        "    \"from\": account.address,\n",
        "    \"nonce\": web3.eth.get_transaction_count(account.address),\n",
        "    \"gas\": 200000,\n",
        "    \"gasPrice\": web3.to_wei(\"5\", \"gwei\"),\n",
        "})\n",
        "signed_tx2 = web3.eth.account.sign_transaction(tx2, private_key)\n",
        "tx_hash2 = web3.eth.send_raw_transaction(signed_tx2.raw_transaction)\n",
        "print(\"Transfer tx hash:\", tx_hash2.hex())\n"
      ],
      "metadata": {
        "colab": {
          "base_uri": "https://localhost:8080/"
        },
        "id": "vBy59b71KPrE",
        "outputId": "cc0343dc-ebe3-4957-a905-cb7f67a6fc35"
      },
      "execution_count": null,
      "outputs": [
        {
          "output_type": "stream",
          "name": "stdout",
          "text": [
            "Token Name: 9NFT Mania\n",
            "Token Symbol: 9NFT\n",
            "Total Supply: 1000000000000000000000000000000000000000000000000000000000\n",
            "Transfer tx hash: 2d58c2cfdbe2b125a20fc4ca1cdefd7426138f7390e6a8a279714703cce3cdc9\n"
          ]
        }
      ]
    },
    {
      "cell_type": "code",
      "source": [
        "print(\"Token Name:\", contract.functions.name().call())\n",
        "print(\"Symbol:\", contract.functions.symbol().call())\n",
        "print(\"Total Supply:\", contract.functions.totalSupply().call())\n",
        "print(\"Deployer Balance:\", contract.functions.balanceOf(account.address).call())\n"
      ],
      "metadata": {
        "colab": {
          "base_uri": "https://localhost:8080/"
        },
        "id": "7NG_iq2XLlko",
        "outputId": "6116fc80-3083-4e56-f622-c47380e08726"
      },
      "execution_count": null,
      "outputs": [
        {
          "output_type": "stream",
          "name": "stdout",
          "text": [
            "Token Name: 9NFT Mania\n",
            "Symbol: 9NFT\n",
            "Total Supply: 1000000000000000000000000000000000000000000000000000000000\n",
            "Deployer Balance: 999999999999999999999999999999999999999999999999999999000\n"
          ]
        }
      ]
    },
    {
      "cell_type": "code",
      "source": [
        "contract = web3.eth.contract(address=receipt.contractAddress, abi=abi)\n",
        "print(\"Token Name:\", contract.functions.name().call())\n",
        "print(\"Symbol:\", contract.functions.symbol().call())\n",
        "print(\"Total Supply:\", contract.functions.totalSupply().call())\n"
      ],
      "metadata": {
        "colab": {
          "base_uri": "https://localhost:8080/"
        },
        "id": "xRA7V_3XMLlS",
        "outputId": "b860fd25-b780-4e83-dea6-c1b1e86124c9"
      },
      "execution_count": null,
      "outputs": [
        {
          "output_type": "stream",
          "name": "stdout",
          "text": [
            "Token Name: 9NFT Mania\n",
            "Symbol: 9NFT\n",
            "Total Supply: 1000000000000000000000000000000000000000000000000000000000\n"
          ]
        }
      ]
    },
    {
      "cell_type": "code",
      "source": [
        "balance = web3.eth.get_balance(account.address)\n",
        "print(\"Balance:\", web3.from_wei(balance, 'ether'))\n"
      ],
      "metadata": {
        "colab": {
          "base_uri": "https://localhost:8080/"
        },
        "id": "rcawSEedMWzp",
        "outputId": "78ef140e-d57c-4a66-8686-6f337e9ab54c"
      },
      "execution_count": null,
      "outputs": [
        {
          "output_type": "stream",
          "name": "stdout",
          "text": [
            "Balance: 3.405669619\n"
          ]
        }
      ]
    },
    {
      "cell_type": "code",
      "source": [
        "receipt = web3.eth.wait_for_transaction_receipt(tx_hash)\n",
        "print(\"Contract deployed at:\", receipt.contractAddress)\n"
      ],
      "metadata": {
        "colab": {
          "base_uri": "https://localhost:8080/"
        },
        "id": "yc4Y78QjNF8X",
        "outputId": "74a6acff-67ad-4c87-b8a8-5d37d22205e4"
      },
      "execution_count": null,
      "outputs": [
        {
          "output_type": "stream",
          "name": "stdout",
          "text": [
            "Contract deployed at: 0xDcE8755B87Afb05Afd3750567F4937b2aE228eb7\n"
          ]
        }
      ]
    },
    {
      "cell_type": "code",
      "source": [
        "contract = web3.eth.contract(address=receipt.contractAddress, abi=abi)\n"
      ],
      "metadata": {
        "id": "phQnKA3_Ne-c"
      },
      "execution_count": null,
      "outputs": []
    },
    {
      "cell_type": "code",
      "source": [
        "print(\"Token Name:\", contract.functions.name().call())\n",
        "print(\"Token Symbol:\", contract.functions.symbol().call())\n",
        "print(\"Total Supply:\", contract.functions.totalSupply().call())\n"
      ],
      "metadata": {
        "colab": {
          "base_uri": "https://localhost:8080/"
        },
        "id": "32LUisc8Njv6",
        "outputId": "c2cff9e8-b736-40ab-be1b-9dba3c3aaef6"
      },
      "execution_count": null,
      "outputs": [
        {
          "output_type": "stream",
          "name": "stdout",
          "text": [
            "Token Name: 9NFT Mania\n",
            "Token Symbol: 9NFT\n",
            "Total Supply: 1000000000000000000000000000000000000000000000000000000000\n"
          ]
        }
      ]
    },
    {
      "cell_type": "code",
      "source": [
        "balance = contract.functions.balanceOf(account.address).call()\n",
        "print(\"Your token balance:\", balance / (10**18))  # Adjust for decimals\n"
      ],
      "metadata": {
        "colab": {
          "base_uri": "https://localhost:8080/"
        },
        "id": "mpRYB_yjNprj",
        "outputId": "07799a48-65a0-466e-80d6-644550cc0bb9"
      },
      "execution_count": null,
      "outputs": [
        {
          "output_type": "stream",
          "name": "stdout",
          "text": [
            "Your token balance: 1e+39\n"
          ]
        }
      ]
    },
    {
      "cell_type": "code",
      "source": [
        "recipient = \"0x1db15B16D427E5Ee6361492d3D09aF63eb331404\"  # Must be a string\n",
        "amount = 1000000 * 10**18  # 1000000 tokens\n",
        "\n",
        "tx = contract.functions.transfer(recipient, amount).build_transaction({\n",
        "    \"from\": account.address,\n",
        "    \"nonce\": web3.eth.get_transaction_count(account.address),\n",
        "    \"gas\": 200000,\n",
        "    \"gasPrice\": web3.to_wei(\"5\", \"gwei\"),\n",
        "})\n",
        "\n",
        "signed_tx = web3.eth.account.sign_transaction(tx, private_key)\n",
        "tx_hash = web3.eth.send_raw_transaction(signed_tx.raw_transaction)\n",
        "print(\"Transfer TX hash:\", tx_hash.hex())\n"
      ],
      "metadata": {
        "colab": {
          "base_uri": "https://localhost:8080/"
        },
        "id": "KzhxXiDxOmr-",
        "outputId": "abf3520b-029c-422d-c9b1-080dc0ec0b11"
      },
      "execution_count": null,
      "outputs": [
        {
          "output_type": "stream",
          "name": "stdout",
          "text": [
            "Transfer TX hash: e1f038b3fd6807898c8fb0dfaf0d032b4d91676c00aec692f1c5e09c0042ac85\n"
          ]
        }
      ]
    },
    {
      "cell_type": "code",
      "source": [
        "spender_address = \"0xF72cb96Bc1A9C20fdDBd9B6f2a4DBEF5303b737C\"  # replace with actual address\n",
        "amount = 1000000 * 10**18  # 10000 tokens\n"
      ],
      "metadata": {
        "id": "xhwX-Ms1PTdq"
      },
      "execution_count": null,
      "outputs": []
    },
    {
      "cell_type": "code",
      "source": [
        "approve_tx = contract.functions.approve(spender_address, amount).build_transaction({\n",
        "    \"from\": account.address,\n",
        "    \"nonce\": web3.eth.get_transaction_count(account.address),\n",
        "    \"gas\": 200000,\n",
        "    \"gasPrice\": web3.to_wei(\"5\", \"gwei\"),\n",
        "})\n",
        "\n",
        "signed_approve_tx = web3.eth.account.sign_transaction(approve_tx, private_key)\n",
        "tx_hash = web3.eth.send_raw_transaction(signed_approve_tx.raw_transaction)\n",
        "print(\"Approve TX hash:\", tx_hash.hex())\n"
      ],
      "metadata": {
        "colab": {
          "base_uri": "https://localhost:8080/"
        },
        "id": "s7lJTehWPVH_",
        "outputId": "88d59048-dfb0-49e8-a2d4-155684e3d5ca"
      },
      "execution_count": null,
      "outputs": [
        {
          "output_type": "stream",
          "name": "stdout",
          "text": [
            "Approve TX hash: 3f962aa3e47a67a90ad85be345cb8aee261a3f4f2e87ff47255655fba970ea7a\n"
          ]
        }
      ]
    },
    {
      "cell_type": "code",
      "source": [
        "tx_receipt = web3.eth.wait_for_transaction_receipt(tx_hash)\n",
        "print(\"Transaction mined in block:\", tx_receipt.blockNumber)\n"
      ],
      "metadata": {
        "colab": {
          "base_uri": "https://localhost:8080/"
        },
        "id": "gnekFCIcPnEJ",
        "outputId": "5e1b04bc-9f1c-492c-dbbc-c91f46398fea"
      },
      "execution_count": null,
      "outputs": [
        {
          "output_type": "stream",
          "name": "stdout",
          "text": [
            "Transaction mined in block: 7993524\n"
          ]
        }
      ]
    },
    {
      "cell_type": "code",
      "source": [
        "balance = contract.functions.balanceOf(account.address).call()\n",
        "print(\"Your token balance:\", balance / (10**18))  # Adjust for decimals\n"
      ],
      "metadata": {
        "colab": {
          "base_uri": "https://localhost:8080/"
        },
        "id": "uIltJjioR7-6",
        "outputId": "be323d9c-b899-4b0f-d6be-2d74af5d5e83"
      },
      "execution_count": null,
      "outputs": [
        {
          "output_type": "stream",
          "name": "stdout",
          "text": [
            "Your token balance: 1e+39\n"
          ]
        }
      ]
    },
    {
      "cell_type": "code",
      "source": [
        "# models.py\n",
        "from sqlalchemy import (\n",
        "    Column, Integer, String, Numeric, DateTime, Enum, Boolean, ForeignKey\n",
        ")\n",
        "from sqlalchemy.ext.declarative import declarative_base\n",
        "from sqlalchemy.sql import func\n",
        "import enum\n",
        "\n",
        "Base = declarative_base()\n",
        "\n",
        "class OrderSide(enum.Enum):\n",
        "    BUY = \"BUY\"\n",
        "    SELL = \"SELL\"\n",
        "\n",
        "class OrderStatus(enum.Enum):\n",
        "    OPEN = \"OPEN\"\n",
        "    PARTIALLY_FILLED = \"PARTIALLY_FILLED\"\n",
        "    FILLED = \"FILLED\"\n",
        "    CANCELLED = \"CANCELLED\"\n",
        "\n",
        "class User(Base):\n",
        "    __tablename__ = \"users\"\n",
        "    id = Column(Integer, primary_key=True)\n",
        "    address = Column(String, unique=True, nullable=False)  # user blockchain address (optional)\n",
        "    email = Column(String, unique=True, nullable=True)\n",
        "\n",
        "class Balance(Base):\n",
        "    __tablename__ = \"balances\"\n",
        "    id = Column(Integer, primary_key=True)\n",
        "    user_id = Column(Integer, ForeignKey(\"users.id\"), nullable=False)\n",
        "    token = Column(String, nullable=False)  # e.g., \"CORE\", \"9NFT\"\n",
        "    amount = Column(Numeric(36, 18), default=0)\n",
        "\n",
        "class Order(Base):\n",
        "    __tablename__ = \"orders\"\n",
        "    id = Column(Integer, primary_key=True)\n",
        "    user_id = Column(Integer, ForeignKey(\"users.id\"), nullable=False)\n",
        "    side = Column(Enum(OrderSide), nullable=False)\n",
        "    price = Column(Numeric(36, 18), nullable=True)  # None for market\n",
        "    amount = Column(Numeric(36, 18), nullable=False)  # original amount\n",
        "    remaining = Column(Numeric(36, 18), nullable=False)  # remaining to fill\n",
        "    status = Column(Enum(OrderStatus), default=OrderStatus.OPEN)\n",
        "    created_at = Column(DateTime(timezone=True), server_default=func.now())\n",
        "\n",
        "class Trade(Base):\n",
        "    __tablename__ = \"trades\"\n",
        "    id = Column(Integer, primary_key=True)\n",
        "    buy_order_id = Column(Integer, ForeignKey(\"orders.id\"))\n",
        "    sell_order_id = Column(Integer, ForeignKey(\"orders.id\"))\n",
        "    price = Column(Numeric(36, 18), nullable=False)\n",
        "    amount = Column(Numeric(36, 18), nullable=False)\n",
        "    timestamp = Column(DateTime(timezone=True), server_default=func.now())\n"
      ],
      "metadata": {
        "colab": {
          "base_uri": "https://localhost:8080/"
        },
        "id": "rRkIG0k3X0S4",
        "outputId": "bfe0d752-e40b-4cac-d6d2-edbd8c7ffa02"
      },
      "execution_count": null,
      "outputs": [
        {
          "output_type": "stream",
          "name": "stderr",
          "text": [
            "/tmp/ipython-input-3902005772.py:9: MovedIn20Warning: The ``declarative_base()`` function is now available as sqlalchemy.orm.declarative_base(). (deprecated since: 2.0) (Background on SQLAlchemy 2.0 at: https://sqlalche.me/e/b8d9)\n",
            "  Base = declarative_base()\n"
          ]
        }
      ]
    },
    {
      "cell_type": "code",
      "source": [
        "# matching.py (concept)\n",
        "from sqlalchemy.orm import Session\n",
        "# from models.py import Order, OrderSide, OrderStatus, Trade, Balance # Removed import\n",
        "from decimal import Decimal\n",
        "\n",
        "def match_orders(db: Session):\n",
        "    # get best buy and sell\n",
        "    buy = db.query(Order).filter(Order.side==OrderSide.BUY, Order.status==OrderStatus.OPEN).order_by(Order.price.desc(), Order.created_at).first()\n",
        "    sell = db.query(Order).filter(Order.side==OrderSide.SELL, Order.status==OrderStatus.OPEN).order_by(Order.price.asc(), Order.created_at).first()\n",
        "    if not buy or not sell:\n",
        "        return\n",
        "\n",
        "    # check price cross (buy.price >= sell.price) or handle market orders (price is None)\n",
        "    buy_price = buy.price if buy.price is not None else sell.price\n",
        "    sell_price = sell.price if sell.price is not None else buy.price\n",
        "    if buy_price is None or sell_price is None:\n",
        "        return\n",
        "    if Decimal(buy_price) < Decimal(sell_price):\n",
        "        return\n",
        "\n",
        "    trade_price = sell_price if buy.created_at > sell.created_at else buy_price\n",
        "    trade_amount = min(Decimal(buy.remaining), Decimal(sell.remaining))\n",
        "\n",
        "    # execute trade: update balances (off-chain book), orders, save Trade\n",
        "    try:\n",
        "        # atomic transaction\n",
        "        buy.remaining = Decimal(buy.remaining) - trade_amount\n",
        "        sell.remaining = Decimal(sell.remaining) - trade_amount\n",
        "\n",
        "        if buy.remaining == 0:\n",
        "            buy.status = OrderStatus.FILLED\n",
        "        else:\n",
        "            buy.status = OrderStatus.PARTIALLY_FILLED\n",
        "\n",
        "        if sell.remaining == 0:\n",
        "            sell.status = OrderStatus.FILLED\n",
        "        else:\n",
        "            sell.status = OrderStatus.PARTIALLY_FILLED\n",
        "\n",
        "        trade = Trade(buy_order_id=buy.id, sell_order_id=sell.id, price=trade_price, amount=trade_amount)\n",
        "        db.add(trade)\n",
        "\n",
        "        # Update buyer: deduct CORE (price * amount) and credit token\n",
        "        buyer_balance_core = db.query(Balance).filter_by(user_id=buy.user_id, token=\"CORE\").with_for_update().first()\n",
        "        buyer_balance_token = db.query(Balance).filter_by(user_id=buy.user_id, token=\"9NFT\").with_for_update().first()\n",
        "        seller_balance_core = db.query(Balance).filter_by(user_id=sell.user_id, token=\"CORE\").with_for_update().first()\n",
        "        seller_balance_token = db.query(Balance).filter_by(user_id=sell.user_id, token=\"9NFT\").with_for_update().first()\n",
        "\n",
        "        total_cost = Decimal(trade_price) * trade_amount\n",
        "\n",
        "        buyer_balance_core.amount -= total_cost\n",
        "        buyer_balance_token.amount += trade_amount\n",
        "\n",
        "        seller_balance_token.amount -= trade_amount\n",
        "        seller_balance_core.amount += total_cost\n",
        "\n",
        "        db.commit()\n",
        "    except Exception:\n",
        "        db.rollback()\n",
        "        raise"
      ],
      "metadata": {
        "id": "BIWyyONCYJgA"
      },
      "execution_count": null,
      "outputs": []
    },
    {
      "cell_type": "code",
      "source": [
        "# api.py (FastAPI)\n",
        "from fastapi import FastAPI, HTTPException, Depends\n",
        "from pydantic import BaseModel\n",
        "from sqlalchemy.orm import Session\n",
        "# from models import Order, OrderSide, User, Balance # Removed import\n",
        "from database import get_db, SessionLocal\n",
        "from decimal import Decimal\n",
        "\n",
        "app = FastAPI()\n",
        "\n",
        "class PlaceOrder(BaseModel):\n",
        "    user_id: int\n",
        "    side: OrderSide\n",
        "    price: Decimal | None  # None for market\n",
        "    amount: Decimal\n",
        "\n",
        "@app.post(\"/order\")\n",
        "def place_order(o: PlaceOrder, db: Session = Depends(get_db)):\n",
        "    # reserve funds\n",
        "    user_bal = db.query(Balance).filter_by(user_id=o.user_id, token=\"CORE\" if o.side==OrderSide.BUY else \"9NFT\").first()\n",
        "    needed = o.price * o.amount if o.side==OrderSide.BUY and o.price is not None else o.amount\n",
        "    if user_bal is None or user_bal.amount < needed:\n",
        "        raise HTTPException(status_code=400, detail=\"Insufficient balance\")\n",
        "    # reserve by subtracting available balance (could use 'reserved' column)\n",
        "    user_bal.amount -= needed\n",
        "    order = Order(user_id=o.user_id, side=o.side, price=o.price, amount=o.amount, remaining=o.amount)\n",
        "    db.add(order)\n",
        "    db.commit()\n",
        "    db.refresh(order)\n",
        "    return {\"order_id\": order.id, \"status\": order.status}\n",
        "\n",
        "@app.get(\"/orderbook\")\n",
        "def orderbook(db: Session = Depends(get_db)):\n",
        "    buys = db.query(Order).filter_by(side=OrderSide.BUY, status=\"OPEN\").order_by(Order.price.desc()).limit(50).all()\n",
        "    sells = db.query(Order).filter_by(side=OrderSide.SELL, status=\"OPEN\").order_by(Order.price.asc()).limit(50).all()\n",
        "    return {\"bids\": buys, \"asks\": sells}"
      ],
      "metadata": {
        "colab": {
          "base_uri": "https://localhost:8080/",
          "height": 383
        },
        "id": "XVLudbSHYgbI",
        "outputId": "68c38ed8-aeba-4cf3-d555-2567fa9bbab7"
      },
      "execution_count": null,
      "outputs": [
        {
          "output_type": "error",
          "ename": "ModuleNotFoundError",
          "evalue": "No module named 'database'",
          "traceback": [
            "\u001b[0;31m---------------------------------------------------------------------------\u001b[0m",
            "\u001b[0;31mModuleNotFoundError\u001b[0m                       Traceback (most recent call last)",
            "\u001b[0;32m/tmp/ipython-input-1587708740.py\u001b[0m in \u001b[0;36m<cell line: 0>\u001b[0;34m()\u001b[0m\n\u001b[1;32m      4\u001b[0m \u001b[0;32mfrom\u001b[0m \u001b[0msqlalchemy\u001b[0m\u001b[0;34m.\u001b[0m\u001b[0morm\u001b[0m \u001b[0;32mimport\u001b[0m \u001b[0mSession\u001b[0m\u001b[0;34m\u001b[0m\u001b[0;34m\u001b[0m\u001b[0m\n\u001b[1;32m      5\u001b[0m \u001b[0;31m# from models import Order, OrderSide, User, Balance # Removed import\u001b[0m\u001b[0;34m\u001b[0m\u001b[0;34m\u001b[0m\u001b[0m\n\u001b[0;32m----> 6\u001b[0;31m \u001b[0;32mfrom\u001b[0m \u001b[0mdatabase\u001b[0m \u001b[0;32mimport\u001b[0m \u001b[0mget_db\u001b[0m\u001b[0;34m,\u001b[0m \u001b[0mSessionLocal\u001b[0m\u001b[0;34m\u001b[0m\u001b[0;34m\u001b[0m\u001b[0m\n\u001b[0m\u001b[1;32m      7\u001b[0m \u001b[0;32mfrom\u001b[0m \u001b[0mdecimal\u001b[0m \u001b[0;32mimport\u001b[0m \u001b[0mDecimal\u001b[0m\u001b[0;34m\u001b[0m\u001b[0;34m\u001b[0m\u001b[0m\n\u001b[1;32m      8\u001b[0m \u001b[0;34m\u001b[0m\u001b[0m\n",
            "\u001b[0;31mModuleNotFoundError\u001b[0m: No module named 'database'",
            "",
            "\u001b[0;31m---------------------------------------------------------------------------\u001b[0;32m\nNOTE: If your import is failing due to a missing package, you can\nmanually install dependencies using either !pip or !apt.\n\nTo view examples of installing some common dependencies, click the\n\"Open Examples\" button below.\n\u001b[0;31m---------------------------------------------------------------------------\u001b[0m\n"
          ],
          "errorDetails": {
            "actions": [
              {
                "action": "open_url",
                "actionText": "Open Examples",
                "url": "/notebooks/snippets/importing_libraries.ipynb"
              }
            ]
          }
        }
      ]
    },
    {
      "cell_type": "code",
      "metadata": {
        "colab": {
          "base_uri": "https://localhost:8080/"
        },
        "id": "dbb98d1a",
        "outputId": "280b0471-8951-4847-e0de-a355c258c3a7"
      },
      "source": [
        "# database.py (concept)\n",
        "from sqlalchemy import create_engine\n",
        "from sqlalchemy.orm import sessionmaker\n",
        "from sqlalchemy.ext.declarative import declarative_base\n",
        "\n",
        "# Database connection URL (using SQLite for simplicity)\n",
        "DATABASE_URL = \"sqlite:///./orderbook.db\"\n",
        "\n",
        "# Create a SQLAlchemy engine\n",
        "engine = create_engine(DATABASE_URL, connect_args={\"check_same_thread\": False})\n",
        "\n",
        "# Create a SessionLocal class\n",
        "SessionLocal = sessionmaker(autocommit=False, autoflush=False, bind=engine)\n",
        "\n",
        "# Create a Base for declarative models\n",
        "Base = declarative_base()\n",
        "\n",
        "# Dependency to get a database session\n",
        "def get_db():\n",
        "    db = SessionLocal()\n",
        "    try:\n",
        "        yield db\n",
        "    finally:\n",
        "        db.close()"
      ],
      "execution_count": null,
      "outputs": [
        {
          "output_type": "stream",
          "name": "stderr",
          "text": [
            "/tmp/ipython-input-1471283931.py:16: MovedIn20Warning: The ``declarative_base()`` function is now available as sqlalchemy.orm.declarative_base(). (deprecated since: 2.0) (Background on SQLAlchemy 2.0 at: https://sqlalche.me/e/b8d9)\n",
            "  Base = declarative_base()\n"
          ]
        }
      ]
    },
    {
      "cell_type": "code",
      "metadata": {
        "colab": {
          "base_uri": "https://localhost:8080/"
        },
        "id": "973948f1",
        "outputId": "feba5229-7859-496e-e767-638364d3c19e"
      },
      "source": [
        "%%writefile database.py\n",
        "from sqlalchemy import create_engine\n",
        "from sqlalchemy.orm import sessionmaker\n",
        "from sqlalchemy.ext.declarative import declarative_base\n",
        "\n",
        "# Database connection URL (using SQLite for simplicity)\n",
        "DATABASE_URL = \"sqlite:///./orderbook.db\"\n",
        "\n",
        "# Create a SQLAlchemy engine\n",
        "engine = create_engine(DATABASE_URL, connect_args={\"check_same_thread\": False})\n",
        "\n",
        "# Create a SessionLocal class\n",
        "SessionLocal = sessionmaker(autocommit=False, autoflush=False, bind=engine)\n",
        "\n",
        "# Create a Base for declarative models\n",
        "Base = declarative_base()\n",
        "\n",
        "# Dependency to get a database session\n",
        "def get_db():\n",
        "    db = SessionLocal()\n",
        "    try:\n",
        "        yield db\n",
        "    finally:\n",
        "        db.close()"
      ],
      "execution_count": null,
      "outputs": [
        {
          "output_type": "stream",
          "name": "stdout",
          "text": [
            "Writing database.py\n"
          ]
        }
      ]
    },
    {
      "cell_type": "code",
      "source": [
        "# api.py (FastAPI)\n",
        "from fastapi import FastAPI, HTTPException, Depends\n",
        "from pydantic import BaseModel\n",
        "from sqlalchemy.orm import Session\n",
        "# from models.py import Order, OrderSide, User, Balance # Removed import\n",
        "from database import get_db, SessionLocal\n",
        "from decimal import Decimal\n",
        "\n",
        "app = FastAPI()\n",
        "\n",
        "class PlaceOrder(BaseModel):\n",
        "    user_id: int\n",
        "    side: OrderSide\n",
        "    price: Decimal | None  # None for market\n",
        "    amount: Decimal\n",
        "\n",
        "@app.post(\"/order\")\n",
        "def place_order(o: PlaceOrder, db: Session = Depends(get_db)):\n",
        "    # reserve funds\n",
        "    user_bal = db.query(Balance).filter_by(user_id=o.user_id, token=\"CORE\" if o.side==OrderSide.BUY else \"9NFT\").first()\n",
        "    needed = o.price * o.amount if o.side==OrderSide.BUY and o.price is not None else o.amount\n",
        "    if user_bal is None or user_bal.amount < needed:\n",
        "        raise HTTPException(status_code=400, detail=\"Insufficient balance\")\n",
        "    # reserve by subtracting available balance (could use 'reserved' column)\n",
        "    user_bal.amount -= needed\n",
        "    order = Order(user_id=o.user_id, side=o.side, price=o.price, amount=o.amount, remaining=o.amount)\n",
        "    db.add(order)\n",
        "    db.commit()\n",
        "    db.refresh(order)\n",
        "    return {\"order_id\": order.id, \"status\": order.status}\n",
        "\n",
        "@app.get(\"/orderbook\")\n",
        "def orderbook(db: Session = Depends(get_db)):\n",
        "    buys = db.query(Order).filter_by(side=OrderSide.BUY, status=\"OPEN\").order_by(Order.price.desc()).limit(50).all()\n",
        "    sells = db.query(Order).filter_by(side=OrderSide.SELL, status=\"OPEN\").order_by(Order.price.asc()).limit(50).all()\n",
        "    return {\"bids\": buys, \"asks\": sells}"
      ],
      "metadata": {
        "id": "PJD4IZs4Y9YA"
      },
      "execution_count": null,
      "outputs": []
    },
    {
      "cell_type": "code",
      "source": [
        "from web3 import Web3\n",
        "from web3.middleware.proof_of_authority import ExtraDataToPOAMiddleware\n",
        "import time\n",
        "\n",
        "# Connect to CoreDAO RPC\n",
        "w3 = Web3(Web3.HTTPProvider(\"https://rpc.test2.btcs.network\"))\n",
        "\n",
        "# Inject the POA middleware (required for chains like CoreDAO / BSC / Polygon)\n",
        "w3.middleware_onion.inject(ExtraDataToPOAMiddleware, layer=0)\n",
        "\n",
        "print(\"Connected:\", w3.is_connected())\n"
      ],
      "metadata": {
        "colab": {
          "base_uri": "https://localhost:8080/"
        },
        "id": "9XVSwN5Ybece",
        "outputId": "0f20b105-b42c-4b07-e72a-8b25279785bf"
      },
      "execution_count": null,
      "outputs": [
        {
          "output_type": "stream",
          "name": "stdout",
          "text": [
            "Connected: True\n"
          ]
        }
      ]
    },
    {
      "cell_type": "code",
      "source": [
        "# deposit_listener.py\n",
        "from web3 import Web3\n",
        "from web3.middleware.proof_of_authority import ExtraDataToPOAMiddleware\n",
        "import time\n",
        "\n",
        "# ---- CONFIG ----\n",
        "RPC_URL = \"https://rpc.test2.btcs.network\"   # CoreDAO Testnet RPC\n",
        "TOKEN_ADDRESS = \"0xDcE8755B87Afb05Afd3750567F4937b2aE228eb7\"  # Replace with your deployed ERC20 token\n",
        "POLL_INTERVAL_SECONDS = 5 # How often to check for new blocks\n",
        "\n",
        "\n",
        "# ---- CONNECT ----\n",
        "w3 = Web3(Web3.HTTPProvider(RPC_URL))\n",
        "w3.middleware_onion.inject(ExtraDataToPOAMiddleware, layer=0)\n",
        "print(\"Connected:\", w3.is_connected())\n",
        "\n",
        "# ---- Event Signature (ERC20 Transfer) ----\n",
        "TRANSFER_SIG = Web3.keccak(text=\"Transfer(address,address,uint256)\").hex()\n",
        "if not TRANSFER_SIG.startswith(\"0x\"):\n",
        "    TRANSFER_SIG = \"0x\" + TRANSFER_SIG\n",
        "\n",
        "# ---- Hex helper ----\n",
        "def to_hex_block(num):\n",
        "    return hex(int(num)) if num is not None else \"latest\"\n",
        "\n",
        "# ---- Handle Event ----\n",
        "def handle_event(log):\n",
        "    try:\n",
        "        from_addr = \"0x\" + log[\"topics\"][1].hex()[-40:]\n",
        "        to_addr   = \"0x\" + log[\"topics\"][2].hex()[-40:]\n",
        "        value     = int(log[\"data\"], 16)\n",
        "        print(f\"✅ Transfer: {from_addr} -> {to_addr} | Amount: {value} | Block: {log['blockNumber']}\")\n",
        "    except Exception as e:\n",
        "        print(\"❌ Error decoding log:\", e)\n",
        "\n",
        "# ---- Polling Loop ----\n",
        "def log_loop(poll_interval=5):\n",
        "    last_block = w3.eth.block_number\n",
        "    print(f\"🔍 Starting from block {last_block}\")\n",
        "\n",
        "    while True:\n",
        "        latest = w3.eth.block_number\n",
        "        if latest > last_block:\n",
        "            payload = {\n",
        "                \"fromBlock\": to_hex_block(last_block + 1),\n",
        "                \"toBlock\": to_hex_block(latest),\n",
        "                \"address\": Web3.to_checksum_address(TOKEN_ADDRESS),\n",
        "                \"topics\": [TRANSFER_SIG]\n",
        "            }\n",
        "            # Debug print payload before sending\n",
        "            print(\"📤 Sending filter payload:\", payload)\n",
        "\n",
        "            try:\n",
        "                logs = w3.eth.get_logs(payload)\n",
        "                for log in logs:\n",
        "                    handle_event(log)\n",
        "            except Exception as e:\n",
        "                print(\"⚠️ RPC error:\", e)\n",
        "\n",
        "            last_block = latest\n",
        "        time.sleep(poll_interval)\n",
        "\n",
        "# ---- Run ----\n",
        "try:\n",
        "    log_loop(5)\n",
        "except KeyboardInterrupt:\n",
        "    print(\"Stopped listener\")"
      ],
      "metadata": {
        "colab": {
          "base_uri": "https://localhost:8080/"
        },
        "id": "BfGl8sdecOhj",
        "outputId": "95f1f706-975e-463f-862c-680b18320a2d"
      },
      "execution_count": null,
      "outputs": [
        {
          "output_type": "stream",
          "name": "stdout",
          "text": [
            "Connected: True\n",
            "🔍 Starting from block 7994811\n",
            "📤 Sending filter payload: {'fromBlock': '0x79fdbc', 'toBlock': '0x79fdbc', 'address': '0xDcE8755B87Afb05Afd3750567F4937b2aE228eb7', 'topics': ['0xddf252ad1be2c89b69c2b068fc378daa952ba7f163c4a11628f55a4df523b3ef']}\n",
            "📤 Sending filter payload: {'fromBlock': '0x79fdbd', 'toBlock': '0x79fdbe', 'address': '0xDcE8755B87Afb05Afd3750567F4937b2aE228eb7', 'topics': ['0xddf252ad1be2c89b69c2b068fc378daa952ba7f163c4a11628f55a4df523b3ef']}\n",
            "📤 Sending filter payload: {'fromBlock': '0x79fdbf', 'toBlock': '0x79fdc0', 'address': '0xDcE8755B87Afb05Afd3750567F4937b2aE228eb7', 'topics': ['0xddf252ad1be2c89b69c2b068fc378daa952ba7f163c4a11628f55a4df523b3ef']}\n",
            "📤 Sending filter payload: {'fromBlock': '0x79fdc1', 'toBlock': '0x79fdc2', 'address': '0xDcE8755B87Afb05Afd3750567F4937b2aE228eb7', 'topics': ['0xddf252ad1be2c89b69c2b068fc378daa952ba7f163c4a11628f55a4df523b3ef']}\n",
            "📤 Sending filter payload: {'fromBlock': '0x79fdc3', 'toBlock': '0x79fdc3', 'address': '0xDcE8755B87Afb05Afd3750567F4937b2aE228eb7', 'topics': ['0xddf252ad1be2c89b69c2b068fc378daa952ba7f163c4a11628f55a4df523b3ef']}\n",
            "📤 Sending filter payload: {'fromBlock': '0x79fdc4', 'toBlock': '0x79fdc5', 'address': '0xDcE8755B87Afb05Afd3750567F4937b2aE228eb7', 'topics': ['0xddf252ad1be2c89b69c2b068fc378daa952ba7f163c4a11628f55a4df523b3ef']}\n",
            "📤 Sending filter payload: {'fromBlock': '0x79fdc6', 'toBlock': '0x79fdc7', 'address': '0xDcE8755B87Afb05Afd3750567F4937b2aE228eb7', 'topics': ['0xddf252ad1be2c89b69c2b068fc378daa952ba7f163c4a11628f55a4df523b3ef']}\n",
            "📤 Sending filter payload: {'fromBlock': '0x79fdc8', 'toBlock': '0x79fdc8', 'address': '0xDcE8755B87Afb05Afd3750567F4937b2aE228eb7', 'topics': ['0xddf252ad1be2c89b69c2b068fc378daa952ba7f163c4a11628f55a4df523b3ef']}\n",
            "📤 Sending filter payload: {'fromBlock': '0x79fdc9', 'toBlock': '0x79fdca', 'address': '0xDcE8755B87Afb05Afd3750567F4937b2aE228eb7', 'topics': ['0xddf252ad1be2c89b69c2b068fc378daa952ba7f163c4a11628f55a4df523b3ef']}\n",
            "📤 Sending filter payload: {'fromBlock': '0x79fdcb', 'toBlock': '0x79fdcc', 'address': '0xDcE8755B87Afb05Afd3750567F4937b2aE228eb7', 'topics': ['0xddf252ad1be2c89b69c2b068fc378daa952ba7f163c4a11628f55a4df523b3ef']}\n",
            "📤 Sending filter payload: {'fromBlock': '0x79fdcd', 'toBlock': '0x79fdcd', 'address': '0xDcE8755B87Afb05Afd3750567F4937b2aE228eb7', 'topics': ['0xddf252ad1be2c89b69c2b068fc378daa952ba7f163c4a11628f55a4df523b3ef']}\n",
            "📤 Sending filter payload: {'fromBlock': '0x79fdce', 'toBlock': '0x79fdcf', 'address': '0xDcE8755B87Afb05Afd3750567F4937b2aE228eb7', 'topics': ['0xddf252ad1be2c89b69c2b068fc378daa952ba7f163c4a11628f55a4df523b3ef']}\n",
            "📤 Sending filter payload: {'fromBlock': '0x79fdd0', 'toBlock': '0x79fdd1', 'address': '0xDcE8755B87Afb05Afd3750567F4937b2aE228eb7', 'topics': ['0xddf252ad1be2c89b69c2b068fc378daa952ba7f163c4a11628f55a4df523b3ef']}\n",
            "📤 Sending filter payload: {'fromBlock': '0x79fdd2', 'toBlock': '0x79fdd3', 'address': '0xDcE8755B87Afb05Afd3750567F4937b2aE228eb7', 'topics': ['0xddf252ad1be2c89b69c2b068fc378daa952ba7f163c4a11628f55a4df523b3ef']}\n",
            "📤 Sending filter payload: {'fromBlock': '0x79fdd4', 'toBlock': '0x79fdd4', 'address': '0xDcE8755B87Afb05Afd3750567F4937b2aE228eb7', 'topics': ['0xddf252ad1be2c89b69c2b068fc378daa952ba7f163c4a11628f55a4df523b3ef']}\n",
            "📤 Sending filter payload: {'fromBlock': '0x79fdd5', 'toBlock': '0x79fdd6', 'address': '0xDcE8755B87Afb05Afd3750567F4937b2aE228eb7', 'topics': ['0xddf252ad1be2c89b69c2b068fc378daa952ba7f163c4a11628f55a4df523b3ef']}\n",
            "📤 Sending filter payload: {'fromBlock': '0x79fdd7', 'toBlock': '0x79fdd8', 'address': '0xDcE8755B87Afb05Afd3750567F4937b2aE228eb7', 'topics': ['0xddf252ad1be2c89b69c2b068fc378daa952ba7f163c4a11628f55a4df523b3ef']}\n",
            "📤 Sending filter payload: {'fromBlock': '0x79fdd9', 'toBlock': '0x79fdd9', 'address': '0xDcE8755B87Afb05Afd3750567F4937b2aE228eb7', 'topics': ['0xddf252ad1be2c89b69c2b068fc378daa952ba7f163c4a11628f55a4df523b3ef']}\n",
            "📤 Sending filter payload: {'fromBlock': '0x79fdda', 'toBlock': '0x79fddb', 'address': '0xDcE8755B87Afb05Afd3750567F4937b2aE228eb7', 'topics': ['0xddf252ad1be2c89b69c2b068fc378daa952ba7f163c4a11628f55a4df523b3ef']}\n",
            "📤 Sending filter payload: {'fromBlock': '0x79fddc', 'toBlock': '0x79fddd', 'address': '0xDcE8755B87Afb05Afd3750567F4937b2aE228eb7', 'topics': ['0xddf252ad1be2c89b69c2b068fc378daa952ba7f163c4a11628f55a4df523b3ef']}\n",
            "📤 Sending filter payload: {'fromBlock': '0x79fdde', 'toBlock': '0x79fdde', 'address': '0xDcE8755B87Afb05Afd3750567F4937b2aE228eb7', 'topics': ['0xddf252ad1be2c89b69c2b068fc378daa952ba7f163c4a11628f55a4df523b3ef']}\n",
            "📤 Sending filter payload: {'fromBlock': '0x79fddf', 'toBlock': '0x79fde0', 'address': '0xDcE8755B87Afb05Afd3750567F4937b2aE228eb7', 'topics': ['0xddf252ad1be2c89b69c2b068fc378daa952ba7f163c4a11628f55a4df523b3ef']}\n",
            "📤 Sending filter payload: {'fromBlock': '0x79fde1', 'toBlock': '0x79fde2', 'address': '0xDcE8755B87Afb05Afd3750567F4937b2aE228eb7', 'topics': ['0xddf252ad1be2c89b69c2b068fc378daa952ba7f163c4a11628f55a4df523b3ef']}\n",
            "📤 Sending filter payload: {'fromBlock': '0x79fde3', 'toBlock': '0x79fde4', 'address': '0xDcE8755B87Afb05Afd3750567F4937b2aE228eb7', 'topics': ['0xddf252ad1be2c89b69c2b068fc378daa952ba7f163c4a11628f55a4df523b3ef']}\n",
            "📤 Sending filter payload: {'fromBlock': '0x79fde5', 'toBlock': '0x79fde5', 'address': '0xDcE8755B87Afb05Afd3750567F4937b2aE228eb7', 'topics': ['0xddf252ad1be2c89b69c2b068fc378daa952ba7f163c4a11628f55a4df523b3ef']}\n",
            "Stopped listener\n"
          ]
        }
      ]
    },
    {
      "cell_type": "code",
      "source": [
        "from web3 import Web3\n",
        "from eth_account import Account\n",
        "\n",
        "def send_token(to_address, amount_wei):\n",
        "    nonce = w3.eth.get_transaction_count(PLATFORM_ADDR)\n",
        "    tx = token_contract.functions.transfer(to_address, int(amount_wei)).buildTransaction({\n",
        "        \"chainId\": CHAIN_ID,\n",
        "        \"gas\": 200000,\n",
        "        \"gasPrice\": w3.toWei(\"10\", \"gwei\"),\n",
        "        \"nonce\": nonce\n",
        "    })\n",
        "    signed = w3.eth.account.sign_transaction(tx, PLATFORM_PRIVATE_KEY)\n",
        "    tx_hash = w3.eth.send_raw_transaction(signed.rawTransaction)\n",
        "    return tx_hash.hex()\n"
      ],
      "metadata": {
        "id": "qUnxdULUieY7"
      },
      "execution_count": null,
      "outputs": []
    },
    {
      "cell_type": "code",
      "source": [
        "def test_simple_match(session):\n",
        "    # create users and balances, place buy and sell orders\n",
        "    # call match_orders(session)\n",
        "    # assert balances updated and trade created\n",
        "    pass\n"
      ],
      "metadata": {
        "id": "YGdo4fdgjBn7"
      },
      "execution_count": null,
      "outputs": []
    }
  ]
}